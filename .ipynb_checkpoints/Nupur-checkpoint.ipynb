{
 "cells": [
  {
   "cell_type": "code",
   "execution_count": null,
   "id": "c3d46385",
   "metadata": {},
   "outputs": [],
   "source": [
    "import pandas as pd \n",
    "import altair as alt \n",
    "\n",
    "background_check_me = pd.read_csv(\"background_check_me\")\n",
    "background_check_nj = pd.read_csv(\"background_check_nj\")\n",
    "death_data_me = pd.read_csv(\"death_data_me\")\n",
    "death_data_nj = pd.read_csv(\"death_data_nj\")"
   ]
  }
 ],
 "metadata": {
  "kernelspec": {
   "display_name": "Python 3 (ipykernel)",
   "language": "python",
   "name": "python3"
  },
  "language_info": {
   "codemirror_mode": {
    "name": "ipython",
    "version": 3
   },
   "file_extension": ".py",
   "mimetype": "text/x-python",
   "name": "python",
   "nbconvert_exporter": "python",
   "pygments_lexer": "ipython3",
   "version": "3.11.3"
  }
 },
 "nbformat": 4,
 "nbformat_minor": 5
}
