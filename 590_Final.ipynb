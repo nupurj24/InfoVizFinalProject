{
  "nbformat": 4,
  "nbformat_minor": 0,
  "metadata": {
    "colab": {
      "provenance": [],
      "collapsed_sections": [
        "DUM1OA9SGO4N",
        "Cwl76EHKoEvK",
        "f8SsP1fz2kAl",
        "PHXJmrg1LitA",
        "m2Ffan3T3Go1",
        "pv5VNWbrGQbg",
        "AGLmBGEvozF_"
      ]
    },
    "kernelspec": {
      "name": "python3",
      "display_name": "Python 3"
    },
    "language_info": {
      "name": "python"
    }
  },
  "cells": [
    {
      "cell_type": "markdown",
      "source": [
        "# 590 Final Project"
      ],
      "metadata": {
        "id": "NdCzn4mRWicN"
      }
    },
    {
      "cell_type": "code",
      "execution_count": null,
      "metadata": {
        "id": "sahkTBM34RGx"
      },
      "outputs": [],
      "source": [
        "import pandas as pd\n",
        "import altair as alt"
      ]
    },
    {
      "cell_type": "markdown",
      "source": [
        "# Mortality Rate / Background Checks (2016 - 2021)"
      ],
      "metadata": {
        "id": "LwaEvhPoFypz"
      }
    },
    {
      "cell_type": "markdown",
      "source": [
        "# New Hampshire"
      ],
      "metadata": {
        "id": "DUM1OA9SGO4N"
      }
    },
    {
      "cell_type": "code",
      "source": [
        "nh_data = pd.read_csv(\"nh_data.csv\")\n",
        "\n",
        "# Creating a base for the chart to share x-axis configuration\n",
        "base_nh = alt.Chart(nh_data).encode(\n",
        "    alt.X('Year:N', axis=alt.Axis(title='Year'))  # 'Year' as ordinal\n",
        ")\n",
        "\n",
        "# Creating the line chart for the 'Rate' on the left y-axis\n",
        "rate_chart_nh = base_nh.mark_line(point=True, color='red').encode(\n",
        "    alt.Y('Rate:Q', axis=alt.Axis(title='Rate', titleColor='red')),\n",
        "    tooltip = [\"Year\", \"Rate\", \"Notes\"],\n",
        "    color = alt.value(\"red\")\n",
        ")\n",
        "\n",
        "# Creating the line chart for the 'Total Background Checks' on the right y-axis\n",
        "deaths_chart_nh = base_nh.mark_line(point=True, color='blue').encode(\n",
        "    alt.Y('Total Background Checks:Q', axis=alt.Axis(title='Total Background Checks', titleColor='blue')),\n",
        "    tooltip = [\"Year\", \"Total Background Checks\", \"Notes\"],\n",
        "    color = alt.value(\"blue\")\n",
        ")\n",
        "\n",
        "# Combining both charts\n",
        "chart_nh = alt.layer(rate_chart_nh, deaths_chart_nh).resolve_scale(\n",
        "    y='independent'\n",
        ").properties(\n",
        "    title='Firearm Mortality Rates and Deaths in New Hampshire (2016-2021)',\n",
        "    width=500,\n",
        "    height=300\n",
        ")\n",
        "\n",
        "chart_nh"
      ],
      "metadata": {
        "id": "86ea40bWAJX3",
        "colab": {
          "base_uri": "https://localhost:8080/",
          "height": 398
        },
        "outputId": "56bc1815-81ba-49b2-b197-40c029a1e937"
      },
      "execution_count": null,
      "outputs": [
        {
          "output_type": "execute_result",
          "data": {
            "text/html": [
              "\n",
              "<div id=\"altair-viz-172482358ff14dcbbb1b407b3b52f1c9\"></div>\n",
              "<script type=\"text/javascript\">\n",
              "  var VEGA_DEBUG = (typeof VEGA_DEBUG == \"undefined\") ? {} : VEGA_DEBUG;\n",
              "  (function(spec, embedOpt){\n",
              "    let outputDiv = document.currentScript.previousElementSibling;\n",
              "    if (outputDiv.id !== \"altair-viz-172482358ff14dcbbb1b407b3b52f1c9\") {\n",
              "      outputDiv = document.getElementById(\"altair-viz-172482358ff14dcbbb1b407b3b52f1c9\");\n",
              "    }\n",
              "    const paths = {\n",
              "      \"vega\": \"https://cdn.jsdelivr.net/npm//vega@5?noext\",\n",
              "      \"vega-lib\": \"https://cdn.jsdelivr.net/npm//vega-lib?noext\",\n",
              "      \"vega-lite\": \"https://cdn.jsdelivr.net/npm//vega-lite@4.17.0?noext\",\n",
              "      \"vega-embed\": \"https://cdn.jsdelivr.net/npm//vega-embed@6?noext\",\n",
              "    };\n",
              "\n",
              "    function maybeLoadScript(lib, version) {\n",
              "      var key = `${lib.replace(\"-\", \"\")}_version`;\n",
              "      return (VEGA_DEBUG[key] == version) ?\n",
              "        Promise.resolve(paths[lib]) :\n",
              "        new Promise(function(resolve, reject) {\n",
              "          var s = document.createElement('script');\n",
              "          document.getElementsByTagName(\"head\")[0].appendChild(s);\n",
              "          s.async = true;\n",
              "          s.onload = () => {\n",
              "            VEGA_DEBUG[key] = version;\n",
              "            return resolve(paths[lib]);\n",
              "          };\n",
              "          s.onerror = () => reject(`Error loading script: ${paths[lib]}`);\n",
              "          s.src = paths[lib];\n",
              "        });\n",
              "    }\n",
              "\n",
              "    function showError(err) {\n",
              "      outputDiv.innerHTML = `<div class=\"error\" style=\"color:red;\">${err}</div>`;\n",
              "      throw err;\n",
              "    }\n",
              "\n",
              "    function displayChart(vegaEmbed) {\n",
              "      vegaEmbed(outputDiv, spec, embedOpt)\n",
              "        .catch(err => showError(`Javascript Error: ${err.message}<br>This usually means there's a typo in your chart specification. See the javascript console for the full traceback.`));\n",
              "    }\n",
              "\n",
              "    if(typeof define === \"function\" && define.amd) {\n",
              "      requirejs.config({paths});\n",
              "      require([\"vega-embed\"], displayChart, err => showError(`Error loading script: ${err.message}`));\n",
              "    } else {\n",
              "      maybeLoadScript(\"vega\", \"5\")\n",
              "        .then(() => maybeLoadScript(\"vega-lite\", \"4.17.0\"))\n",
              "        .then(() => maybeLoadScript(\"vega-embed\", \"6\"))\n",
              "        .catch(showError)\n",
              "        .then(() => displayChart(vegaEmbed));\n",
              "    }\n",
              "  })({\"config\": {\"view\": {\"continuousWidth\": 400, \"continuousHeight\": 300}}, \"layer\": [{\"mark\": {\"type\": \"line\", \"color\": \"red\", \"point\": true}, \"encoding\": {\"color\": {\"value\": \"red\"}, \"tooltip\": [{\"field\": \"Year\", \"type\": \"quantitative\"}, {\"field\": \"Rate\", \"type\": \"quantitative\"}, {\"field\": \"Notes\", \"type\": \"nominal\"}], \"x\": {\"axis\": {\"title\": \"Year\"}, \"field\": \"Year\", \"type\": \"nominal\"}, \"y\": {\"axis\": {\"title\": \"Rate\", \"titleColor\": \"red\"}, \"field\": \"Rate\", \"type\": \"quantitative\"}}}, {\"mark\": {\"type\": \"line\", \"color\": \"blue\", \"point\": true}, \"encoding\": {\"color\": {\"value\": \"blue\"}, \"tooltip\": [{\"field\": \"Year\", \"type\": \"quantitative\"}, {\"field\": \"Total Background Checks\", \"type\": \"quantitative\"}, {\"field\": \"Notes\", \"type\": \"nominal\"}], \"x\": {\"axis\": {\"title\": \"Year\"}, \"field\": \"Year\", \"type\": \"nominal\"}, \"y\": {\"axis\": {\"title\": \"Total Background Checks\", \"titleColor\": \"blue\"}, \"field\": \"Total Background Checks\", \"type\": \"quantitative\"}}}], \"data\": {\"name\": \"data-e57d03b15ef1d91d157292f7ebb7c680\"}, \"height\": 300, \"resolve\": {\"scale\": {\"y\": \"independent\"}}, \"title\": \"Firearm Mortality Rates and Deaths in New Hampshire (2016-2021)\", \"width\": 500, \"$schema\": \"https://vega.github.io/schema/vega-lite/v4.17.0.json\", \"datasets\": {\"data-e57d03b15ef1d91d157292f7ebb7c680\": [{\"Year\": 2021, \"State\": \"NH\", \"Rate\": 8.3, \"Deaths\": 123, \"Total Background Checks\": 151853, \"Notes\": \"Enacts legislation allowing family members and law enforcement to petition for temporary firearm removal from individuals in mental health crisis.\"}, {\"Year\": 2020, \"State\": \"NH\", \"Rate\": 8.9, \"Deaths\": 128, \"Total Background Checks\": 174662, \"Notes\": \"Discusses the potential implementation of a waiting period for firearm purchases to allow time for background checks and cooling-off periods.\"}, {\"Year\": 2019, \"State\": \"NH\", \"Rate\": 10.7, \"Deaths\": 156, \"Total Background Checks\": 112173, \"Notes\": \"Tightens the background check process for concealed carry permit applicants with focusing on mental health history and criminal records.\"}, {\"Year\": 2018, \"State\": \"NH\", \"Rate\": 10.8, \"Deaths\": 155, \"Total Background Checks\": 120889, \"Notes\": \"Introduces guidelines promoting responsible firearm storage practices to prevent unauthorized access in households with minors particularly.\"}, {\"Year\": 2017, \"State\": \"NH\", \"Rate\": 10.4, \"Deaths\": 146, \"Total Background Checks\": 129090, \"Notes\": \"Introduces stricter penalties for individuals convicted of gun-related crimes to deter illegal firearm use.\"}, {\"Year\": 2016, \"State\": \"NH\", \"Rate\": 9.3, \"Deaths\": 132, \"Total Background Checks\": 165164, \"Notes\": \"Strengthens its preemption laws to prevent local jurisdictions from enacting firearm regulations that exceed state laws.\"}]}}, {\"mode\": \"vega-lite\"});\n",
              "</script>"
            ],
            "text/plain": [
              "alt.LayerChart(...)"
            ]
          },
          "metadata": {},
          "execution_count": 3
        }
      ]
    },
    {
      "cell_type": "code",
      "source": [
        "chart_nh.save(\"chart_nh.html\")"
      ],
      "metadata": {
        "id": "rZhbeYTMNWqq"
      },
      "execution_count": null,
      "outputs": []
    },
    {
      "cell_type": "markdown",
      "source": [
        "#West Virginia"
      ],
      "metadata": {
        "id": "Cwl76EHKoEvK"
      }
    },
    {
      "cell_type": "code",
      "source": [
        "wv_data = pd.read_csv(\"wv_data.csv\")\n",
        "# wv_data.head()\n",
        "\n",
        "base_wv = alt.Chart(wv_data).encode(\n",
        "    alt.X('Year:N', axis=alt.Axis(title='Year'))  # 'Year' as ordinal\n",
        ")\n",
        "\n",
        "# Creating the line chart for the 'Rate' on the left y-axis\n",
        "rate_chart_wv = base_wv.mark_line(point=True, color='red').encode(\n",
        "    alt.Y('Rate:Q', axis=alt.Axis(title='Rate', titleColor='red')),\n",
        "    tooltip = [\"Year\", \"Rate\", \"Notes\"],\n",
        "    color = alt.value(\"red\")\n",
        ")\n",
        "\n",
        "# Creating the line chart for the 'Total Background Checks' on the right y-axis\n",
        "deaths_chart_wv = base_wv.mark_line(point=True, color='blue').encode(\n",
        "    alt.Y('Total Background Checks:Q', axis=alt.Axis(title='Total Background Checks', titleColor='blue')),\n",
        "    tooltip = [\"Year\", \"Total Background Checks\", \"Notes\"],\n",
        "    color = alt.value(\"blue\")\n",
        ")\n",
        "\n",
        "# Combining both charts\n",
        "chart_wv = alt.layer(rate_chart_wv, deaths_chart_wv).resolve_scale(\n",
        "    y='independent'\n",
        ").properties(\n",
        "    title='Firearm Mortality Rates and Deaths in West Virginia (2016-2021)',\n",
        "    width=500,  # You can adjust the width to fit your display or preferences\n",
        "    height=300  # You can adjust the height as well\n",
        ")\n",
        "\n",
        "chart_wv"
      ],
      "metadata": {
        "colab": {
          "base_uri": "https://localhost:8080/",
          "height": 398
        },
        "id": "J0YfgDimoGSa",
        "outputId": "90fb401e-3921-4183-e6fc-298ae18fc6c7"
      },
      "execution_count": null,
      "outputs": [
        {
          "output_type": "execute_result",
          "data": {
            "text/html": [
              "\n",
              "<div id=\"altair-viz-7651005e1c63488db6bd0d9b71e6ce9c\"></div>\n",
              "<script type=\"text/javascript\">\n",
              "  var VEGA_DEBUG = (typeof VEGA_DEBUG == \"undefined\") ? {} : VEGA_DEBUG;\n",
              "  (function(spec, embedOpt){\n",
              "    let outputDiv = document.currentScript.previousElementSibling;\n",
              "    if (outputDiv.id !== \"altair-viz-7651005e1c63488db6bd0d9b71e6ce9c\") {\n",
              "      outputDiv = document.getElementById(\"altair-viz-7651005e1c63488db6bd0d9b71e6ce9c\");\n",
              "    }\n",
              "    const paths = {\n",
              "      \"vega\": \"https://cdn.jsdelivr.net/npm//vega@5?noext\",\n",
              "      \"vega-lib\": \"https://cdn.jsdelivr.net/npm//vega-lib?noext\",\n",
              "      \"vega-lite\": \"https://cdn.jsdelivr.net/npm//vega-lite@4.17.0?noext\",\n",
              "      \"vega-embed\": \"https://cdn.jsdelivr.net/npm//vega-embed@6?noext\",\n",
              "    };\n",
              "\n",
              "    function maybeLoadScript(lib, version) {\n",
              "      var key = `${lib.replace(\"-\", \"\")}_version`;\n",
              "      return (VEGA_DEBUG[key] == version) ?\n",
              "        Promise.resolve(paths[lib]) :\n",
              "        new Promise(function(resolve, reject) {\n",
              "          var s = document.createElement('script');\n",
              "          document.getElementsByTagName(\"head\")[0].appendChild(s);\n",
              "          s.async = true;\n",
              "          s.onload = () => {\n",
              "            VEGA_DEBUG[key] = version;\n",
              "            return resolve(paths[lib]);\n",
              "          };\n",
              "          s.onerror = () => reject(`Error loading script: ${paths[lib]}`);\n",
              "          s.src = paths[lib];\n",
              "        });\n",
              "    }\n",
              "\n",
              "    function showError(err) {\n",
              "      outputDiv.innerHTML = `<div class=\"error\" style=\"color:red;\">${err}</div>`;\n",
              "      throw err;\n",
              "    }\n",
              "\n",
              "    function displayChart(vegaEmbed) {\n",
              "      vegaEmbed(outputDiv, spec, embedOpt)\n",
              "        .catch(err => showError(`Javascript Error: ${err.message}<br>This usually means there's a typo in your chart specification. See the javascript console for the full traceback.`));\n",
              "    }\n",
              "\n",
              "    if(typeof define === \"function\" && define.amd) {\n",
              "      requirejs.config({paths});\n",
              "      require([\"vega-embed\"], displayChart, err => showError(`Error loading script: ${err.message}`));\n",
              "    } else {\n",
              "      maybeLoadScript(\"vega\", \"5\")\n",
              "        .then(() => maybeLoadScript(\"vega-lite\", \"4.17.0\"))\n",
              "        .then(() => maybeLoadScript(\"vega-embed\", \"6\"))\n",
              "        .catch(showError)\n",
              "        .then(() => displayChart(vegaEmbed));\n",
              "    }\n",
              "  })({\"config\": {\"view\": {\"continuousWidth\": 400, \"continuousHeight\": 300}}, \"layer\": [{\"mark\": {\"type\": \"line\", \"color\": \"red\", \"point\": true}, \"encoding\": {\"color\": {\"value\": \"red\"}, \"tooltip\": [{\"field\": \"Year\", \"type\": \"quantitative\"}, {\"field\": \"Rate\", \"type\": \"quantitative\"}, {\"field\": \"Notes\", \"type\": \"nominal\"}], \"x\": {\"axis\": {\"title\": \"Year\"}, \"field\": \"Year\", \"type\": \"nominal\"}, \"y\": {\"axis\": {\"title\": \"Rate\", \"titleColor\": \"red\"}, \"field\": \"Rate\", \"type\": \"quantitative\"}}}, {\"mark\": {\"type\": \"line\", \"color\": \"blue\", \"point\": true}, \"encoding\": {\"color\": {\"value\": \"blue\"}, \"tooltip\": [{\"field\": \"Year\", \"type\": \"quantitative\"}, {\"field\": \"Total Background Checks\", \"type\": \"quantitative\"}, {\"field\": \"Notes\", \"type\": \"nominal\"}], \"x\": {\"axis\": {\"title\": \"Year\"}, \"field\": \"Year\", \"type\": \"nominal\"}, \"y\": {\"axis\": {\"title\": \"Total Background Checks\", \"titleColor\": \"blue\"}, \"field\": \"Total Background Checks\", \"type\": \"quantitative\"}}}], \"data\": {\"name\": \"data-9a93ebcfd72feb55be936c043e7b8da8\"}, \"height\": 300, \"resolve\": {\"scale\": {\"y\": \"independent\"}}, \"title\": \"Firearm Mortality Rates and Deaths in West Virginia (2016-2021)\", \"width\": 500, \"$schema\": \"https://vega.github.io/schema/vega-lite/v4.17.0.json\", \"datasets\": {\"data-9a93ebcfd72feb55be936c043e7b8da8\": [{\"Year\": 2021, \"State\": \"WV\", \"Rate\": 17.3, \"Deaths\": 319, \"Total Background Checks\": 224240, \"Notes\": \"Strengths regulation of firearm dealers.\"}, {\"Year\": 2020, \"State\": \"WV\", \"Rate\": 18.1, \"Deaths\": 325, \"Total Background Checks\": 265705, \"Notes\": \"Individuals can carry concealed firearms without a concealed carry permit.\"}, {\"Year\": 2019, \"State\": \"WV\", \"Rate\": 16.6, \"Deaths\": 300, \"Total Background Checks\": 206196, \"Notes\": \"Passes laws promoting responsible firearm storage and holding adults accountable for preventing children from accessing firearms.\"}, {\"Year\": 2018, \"State\": \"WV\", \"Rate\": 18.2, \"Deaths\": 343, \"Total Background Checks\": 241678, \"Notes\": \"Individuals with valid out-of-state concealed carry permits can carry in WV.\"}, {\"Year\": 2017, \"State\": \"WV\", \"Rate\": 18.6, \"Deaths\": 348, \"Total Background Checks\": 222768, \"Notes\": \"Strengthens reporting of mental health records to NICS, aiming to prevent individuals from mental health concerns from accessing firearms.\"}, {\"Year\": 2016, \"State\": \"WV\", \"Rate\": 17.5, \"Deaths\": 332, \"Total Background Checks\": 242350, \"Notes\": \"Permitless carry takes effect, allowing individuals to openly carry weapons without a permit.\"}]}}, {\"mode\": \"vega-lite\"});\n",
              "</script>"
            ],
            "text/plain": [
              "alt.LayerChart(...)"
            ]
          },
          "metadata": {},
          "execution_count": 11
        }
      ]
    },
    {
      "cell_type": "code",
      "source": [
        "chart_wv.save(\"chart_wv.html\")"
      ],
      "metadata": {
        "id": "1hThbqGAr7Pc"
      },
      "execution_count": null,
      "outputs": []
    },
    {
      "cell_type": "markdown",
      "source": [
        "# New Jersey"
      ],
      "metadata": {
        "id": "f8SsP1fz2kAl"
      }
    },
    {
      "cell_type": "code",
      "source": [
        "nj_data = pd.read_csv(\"nj_data.csv\")\n",
        "\n",
        "# Creating a base for the chart to share x-axis configuration\n",
        "base_nj = alt.Chart(nj_data).encode(\n",
        "    alt.X('Year:N', axis=alt.Axis(title='Year'))  # 'Year' as ordinal\n",
        ")\n",
        "\n",
        "# Creating the line chart for the 'Rate' on the left y-axis\n",
        "rate_chart_nj = base_nj.mark_line(point=True, color='red').encode(\n",
        "    alt.Y('Rate:Q', axis=alt.Axis(title='Rate', titleColor='red')),\n",
        "    tooltip = [\"Year\", \"Rate\"],\n",
        "    color = alt.value(\"red\")\n",
        ")\n",
        "\n",
        "# Creating the line chart for the 'Total Background Checks' on the right y-axis\n",
        "deaths_chart_nj = base_nj.mark_line(point=True, color='blue').encode(\n",
        "    alt.Y('Total Background Check Requests:Q', axis=alt.Axis(title='Total Background Checks', titleColor='blue')),\n",
        "    tooltip = [\"Year\", \"Total Background Check Requests\"],\n",
        "    color = alt.value(\"blue\")\n",
        ")\n",
        "\n",
        "# Combining both charts\n",
        "chart_me = alt.layer(rate_chart_nj, deaths_chart_nj).resolve_scale(\n",
        "    y='independent'\n",
        ").properties(\n",
        "    title='Firearm Mortality Rates and Deaths in Maine (2016-2021)',\n",
        "    width=500,\n",
        "    height=300\n",
        ")\n",
        "\n",
        "chart_me"
      ],
      "metadata": {
        "colab": {
          "base_uri": "https://localhost:8080/",
          "height": 398
        },
        "id": "BXk1DMGZ7S8M",
        "outputId": "53dbbb22-ac9e-42f8-f34a-f7198e9c83a5"
      },
      "execution_count": null,
      "outputs": [
        {
          "output_type": "execute_result",
          "data": {
            "text/html": [
              "\n",
              "<div id=\"altair-viz-fcfd8ae3a2684a318b8be404c46f9b30\"></div>\n",
              "<script type=\"text/javascript\">\n",
              "  var VEGA_DEBUG = (typeof VEGA_DEBUG == \"undefined\") ? {} : VEGA_DEBUG;\n",
              "  (function(spec, embedOpt){\n",
              "    let outputDiv = document.currentScript.previousElementSibling;\n",
              "    if (outputDiv.id !== \"altair-viz-fcfd8ae3a2684a318b8be404c46f9b30\") {\n",
              "      outputDiv = document.getElementById(\"altair-viz-fcfd8ae3a2684a318b8be404c46f9b30\");\n",
              "    }\n",
              "    const paths = {\n",
              "      \"vega\": \"https://cdn.jsdelivr.net/npm//vega@5?noext\",\n",
              "      \"vega-lib\": \"https://cdn.jsdelivr.net/npm//vega-lib?noext\",\n",
              "      \"vega-lite\": \"https://cdn.jsdelivr.net/npm//vega-lite@4.17.0?noext\",\n",
              "      \"vega-embed\": \"https://cdn.jsdelivr.net/npm//vega-embed@6?noext\",\n",
              "    };\n",
              "\n",
              "    function maybeLoadScript(lib, version) {\n",
              "      var key = `${lib.replace(\"-\", \"\")}_version`;\n",
              "      return (VEGA_DEBUG[key] == version) ?\n",
              "        Promise.resolve(paths[lib]) :\n",
              "        new Promise(function(resolve, reject) {\n",
              "          var s = document.createElement('script');\n",
              "          document.getElementsByTagName(\"head\")[0].appendChild(s);\n",
              "          s.async = true;\n",
              "          s.onload = () => {\n",
              "            VEGA_DEBUG[key] = version;\n",
              "            return resolve(paths[lib]);\n",
              "          };\n",
              "          s.onerror = () => reject(`Error loading script: ${paths[lib]}`);\n",
              "          s.src = paths[lib];\n",
              "        });\n",
              "    }\n",
              "\n",
              "    function showError(err) {\n",
              "      outputDiv.innerHTML = `<div class=\"error\" style=\"color:red;\">${err}</div>`;\n",
              "      throw err;\n",
              "    }\n",
              "\n",
              "    function displayChart(vegaEmbed) {\n",
              "      vegaEmbed(outputDiv, spec, embedOpt)\n",
              "        .catch(err => showError(`Javascript Error: ${err.message}<br>This usually means there's a typo in your chart specification. See the javascript console for the full traceback.`));\n",
              "    }\n",
              "\n",
              "    if(typeof define === \"function\" && define.amd) {\n",
              "      requirejs.config({paths});\n",
              "      require([\"vega-embed\"], displayChart, err => showError(`Error loading script: ${err.message}`));\n",
              "    } else {\n",
              "      maybeLoadScript(\"vega\", \"5\")\n",
              "        .then(() => maybeLoadScript(\"vega-lite\", \"4.17.0\"))\n",
              "        .then(() => maybeLoadScript(\"vega-embed\", \"6\"))\n",
              "        .catch(showError)\n",
              "        .then(() => displayChart(vegaEmbed));\n",
              "    }\n",
              "  })({\"config\": {\"view\": {\"continuousWidth\": 400, \"continuousHeight\": 300}}, \"layer\": [{\"mark\": {\"type\": \"line\", \"color\": \"red\", \"point\": true}, \"encoding\": {\"color\": {\"value\": \"red\"}, \"tooltip\": [{\"field\": \"Year\", \"type\": \"quantitative\"}, {\"field\": \"Rate\", \"type\": \"quantitative\"}], \"x\": {\"axis\": {\"title\": \"Year\"}, \"field\": \"Year\", \"type\": \"nominal\"}, \"y\": {\"axis\": {\"title\": \"Rate\", \"titleColor\": \"red\"}, \"field\": \"Rate\", \"type\": \"quantitative\"}}}, {\"mark\": {\"type\": \"line\", \"color\": \"blue\", \"point\": true}, \"encoding\": {\"color\": {\"value\": \"blue\"}, \"tooltip\": [{\"field\": \"Year\", \"type\": \"quantitative\"}, {\"field\": \"Total Background Check Requests\", \"type\": \"quantitative\"}], \"x\": {\"axis\": {\"title\": \"Year\"}, \"field\": \"Year\", \"type\": \"nominal\"}, \"y\": {\"axis\": {\"title\": \"Total Background Checks\", \"titleColor\": \"blue\"}, \"field\": \"Total Background Check Requests\", \"type\": \"quantitative\"}}}], \"data\": {\"name\": \"data-ddfaa53a96adcf893893f875e1b54a30\"}, \"height\": 300, \"resolve\": {\"scale\": {\"y\": \"independent\"}}, \"title\": \"Firearm Mortality Rates and Deaths in Maine (2016-2021)\", \"width\": 500, \"$schema\": \"https://vega.github.io/schema/vega-lite/v4.17.0.json\", \"datasets\": {\"data-ddfaa53a96adcf893893f875e1b54a30\": [{\"Year\": 2021, \"State\": \"NJ\", \"Rate\": 5.2, \"Deaths\": 475, \"Total Background Check Requests\": 223437, \"Notes \": null}, {\"Year\": 2020, \"State\": \"NJ\", \"Rate\": 5.0, \"Deaths\": 443, \"Total Background Check Requests\": 177901, \"Notes \": null}, {\"Year\": 2019, \"State\": \"NJ\", \"Rate\": 4.1, \"Deaths\": 368, \"Total Background Check Requests\": 91257, \"Notes \": null}, {\"Year\": 2018, \"State\": \"NJ\", \"Rate\": 4.8, \"Deaths\": 420, \"Total Background Check Requests\": 93124, \"Notes \": null}, {\"Year\": 2017, \"State\": \"NJ\", \"Rate\": 5.3, \"Deaths\": 478, \"Total Background Check Requests\": 103739, \"Notes \": null}, {\"Year\": 2016, \"State\": \"NJ\", \"Rate\": 5.5, \"Deaths\": 485, \"Total Background Check Requests\": 121853, \"Notes \": null}]}}, {\"mode\": \"vega-lite\"});\n",
              "</script>"
            ],
            "text/plain": [
              "alt.LayerChart(...)"
            ]
          },
          "metadata": {},
          "execution_count": 25
        }
      ]
    },
    {
      "cell_type": "markdown",
      "source": [
        "#Massachusetts"
      ],
      "metadata": {
        "id": "PHXJmrg1LitA"
      }
    },
    {
      "cell_type": "code",
      "source": [
        "ma_data = pd.read_csv(\"ma_data.csv\")\n",
        "# ma_data.head()\n",
        "\n",
        "# Creating a base for the chart to share x-axis configuration\n",
        "base_ma = alt.Chart(ma_data).encode(\n",
        "    alt.X('Year:N', axis=alt.Axis(title='Year'))  # 'Year' as ordinal\n",
        ")\n",
        "\n",
        "# Creating the line chart for the 'Rate' on the left y-axis\n",
        "rate_chart_ma = base_ma.mark_line(point=True, color='red').encode(\n",
        "    alt.Y('Rate:Q', axis=alt.Axis(title='Rate', titleColor='red')),\n",
        "    tooltip = [\"Year\", \"Rate\", \"Notes\"],\n",
        "    color = alt.value(\"red\")\n",
        ")\n",
        "\n",
        "# Creating the line chart for the 'Total Background Checks' on the right y-axis\n",
        "deaths_chart_ma = base_ma.mark_line(point=True, color='blue').encode(\n",
        "    alt.Y('Total Background Checks:Q', axis=alt.Axis(title='Total Background Checks', titleColor='blue')),\n",
        "    tooltip = [\"Year\", \"Total Background Checks\", \"Notes\"],\n",
        "    color = alt.value(\"blue\")\n",
        ")\n",
        "\n",
        "# Combining both charts\n",
        "chart_ma = alt.layer(rate_chart_ma, deaths_chart_ma).resolve_scale(\n",
        "    y='independent'\n",
        ").properties(\n",
        "    title='Firearm Mortality Rates and Deaths in Massachusetts (2016-2021)',\n",
        "    width=500,\n",
        "    height=300\n",
        ")\n",
        "\n",
        "chart_ma"
      ],
      "metadata": {
        "colab": {
          "base_uri": "https://localhost:8080/",
          "height": 398
        },
        "id": "ef6B-XyCMP5W",
        "outputId": "b02caa19-7015-4e8c-989d-daf0c0333772"
      },
      "execution_count": null,
      "outputs": [
        {
          "output_type": "execute_result",
          "data": {
            "text/html": [
              "\n",
              "<div id=\"altair-viz-10e45ddd71ab48a2878f9819c3182873\"></div>\n",
              "<script type=\"text/javascript\">\n",
              "  var VEGA_DEBUG = (typeof VEGA_DEBUG == \"undefined\") ? {} : VEGA_DEBUG;\n",
              "  (function(spec, embedOpt){\n",
              "    let outputDiv = document.currentScript.previousElementSibling;\n",
              "    if (outputDiv.id !== \"altair-viz-10e45ddd71ab48a2878f9819c3182873\") {\n",
              "      outputDiv = document.getElementById(\"altair-viz-10e45ddd71ab48a2878f9819c3182873\");\n",
              "    }\n",
              "    const paths = {\n",
              "      \"vega\": \"https://cdn.jsdelivr.net/npm//vega@5?noext\",\n",
              "      \"vega-lib\": \"https://cdn.jsdelivr.net/npm//vega-lib?noext\",\n",
              "      \"vega-lite\": \"https://cdn.jsdelivr.net/npm//vega-lite@4.17.0?noext\",\n",
              "      \"vega-embed\": \"https://cdn.jsdelivr.net/npm//vega-embed@6?noext\",\n",
              "    };\n",
              "\n",
              "    function maybeLoadScript(lib, version) {\n",
              "      var key = `${lib.replace(\"-\", \"\")}_version`;\n",
              "      return (VEGA_DEBUG[key] == version) ?\n",
              "        Promise.resolve(paths[lib]) :\n",
              "        new Promise(function(resolve, reject) {\n",
              "          var s = document.createElement('script');\n",
              "          document.getElementsByTagName(\"head\")[0].appendChild(s);\n",
              "          s.async = true;\n",
              "          s.onload = () => {\n",
              "            VEGA_DEBUG[key] = version;\n",
              "            return resolve(paths[lib]);\n",
              "          };\n",
              "          s.onerror = () => reject(`Error loading script: ${paths[lib]}`);\n",
              "          s.src = paths[lib];\n",
              "        });\n",
              "    }\n",
              "\n",
              "    function showError(err) {\n",
              "      outputDiv.innerHTML = `<div class=\"error\" style=\"color:red;\">${err}</div>`;\n",
              "      throw err;\n",
              "    }\n",
              "\n",
              "    function displayChart(vegaEmbed) {\n",
              "      vegaEmbed(outputDiv, spec, embedOpt)\n",
              "        .catch(err => showError(`Javascript Error: ${err.message}<br>This usually means there's a typo in your chart specification. See the javascript console for the full traceback.`));\n",
              "    }\n",
              "\n",
              "    if(typeof define === \"function\" && define.amd) {\n",
              "      requirejs.config({paths});\n",
              "      require([\"vega-embed\"], displayChart, err => showError(`Error loading script: ${err.message}`));\n",
              "    } else {\n",
              "      maybeLoadScript(\"vega\", \"5\")\n",
              "        .then(() => maybeLoadScript(\"vega-lite\", \"4.17.0\"))\n",
              "        .then(() => maybeLoadScript(\"vega-embed\", \"6\"))\n",
              "        .catch(showError)\n",
              "        .then(() => displayChart(vegaEmbed));\n",
              "    }\n",
              "  })({\"config\": {\"view\": {\"continuousWidth\": 400, \"continuousHeight\": 300}}, \"layer\": [{\"mark\": {\"type\": \"line\", \"color\": \"red\", \"point\": true}, \"encoding\": {\"color\": {\"value\": \"red\"}, \"tooltip\": [{\"field\": \"Year\", \"type\": \"quantitative\"}, {\"field\": \"Rate\", \"type\": \"quantitative\"}, {\"field\": \"Notes\", \"type\": \"nominal\"}], \"x\": {\"axis\": {\"title\": \"Year\"}, \"field\": \"Year\", \"type\": \"nominal\"}, \"y\": {\"axis\": {\"title\": \"Rate\", \"titleColor\": \"red\"}, \"field\": \"Rate\", \"type\": \"quantitative\"}}}, {\"mark\": {\"type\": \"line\", \"color\": \"blue\", \"point\": true}, \"encoding\": {\"color\": {\"value\": \"blue\"}, \"tooltip\": [{\"field\": \"Year\", \"type\": \"quantitative\"}, {\"field\": \"Total Background Checks\", \"type\": \"quantitative\"}, {\"field\": \"Notes\", \"type\": \"nominal\"}], \"x\": {\"axis\": {\"title\": \"Year\"}, \"field\": \"Year\", \"type\": \"nominal\"}, \"y\": {\"axis\": {\"title\": \"Total Background Checks\", \"titleColor\": \"blue\"}, \"field\": \"Total Background Checks\", \"type\": \"quantitative\"}}}], \"data\": {\"name\": \"data-ac31da9ee485ced8baad7f0cf9186713\"}, \"height\": 300, \"resolve\": {\"scale\": {\"y\": \"independent\"}}, \"title\": \"Firearm Mortality Rates and Deaths in Massachusetts (2016-2021)\", \"width\": 500, \"$schema\": \"https://vega.github.io/schema/vega-lite/v4.17.0.json\", \"datasets\": {\"data-ac31da9ee485ced8baad7f0cf9186713\": [{\"Year\": 2021, \"State\": \"MA\", \"Rate\": 3.4, \"Deaths\": 247, \"Total Background Checks\": 259248, \"Notes\": \"Introduces stricter penalties for individuals convicted of gun-related crimes.\"}, {\"Year\": 2020, \"State\": \"MA\", \"Rate\": 3.7, \"Deaths\": 268, \"Total Background Checks\": 262583, \"Notes\": \"Extends mandatory waiting time for firearm purchases, allowing for more time for background checks.\"}, {\"Year\": 2019, \"State\": \"MA\", \"Rate\": 3.4, \"Deaths\": 247, \"Total Background Checks\": 212316, \"Notes\": \"Tightens background checks for all firearm transfers.\"}, {\"Year\": 2018, \"State\": \"MA\", \"Rate\": 3.5, \"Deaths\": 258, \"Total Background Checks\": 211295, \"Notes\": \"Implements \\\"red flag\\\" laws, allowing authorities and family members to seek temporary firearm removal from individuals showing signs of danger.\"}, {\"Year\": 2017, \"State\": \"MA\", \"Rate\": 3.7, \"Deaths\": 262, \"Total Background Checks\": 206492, \"Notes\": \"Passes legislation that requires individuals to obtain a firearms identification card to purchase ammunition.\"}, {\"Year\": 2016, \"State\": \"MA\", \"Rate\": 3.4, \"Deaths\": 242, \"Total Background Checks\": 226212, \"Notes\": \"Introduces regulations mandating secure firearm storage to prevent access by unauthorized individual.\"}]}}, {\"mode\": \"vega-lite\"});\n",
              "</script>"
            ],
            "text/plain": [
              "alt.LayerChart(...)"
            ]
          },
          "metadata": {},
          "execution_count": 9
        }
      ]
    },
    {
      "cell_type": "code",
      "source": [
        "chart_ma.save(\"chart_ma.html\")"
      ],
      "metadata": {
        "id": "t3micy8fq_w3"
      },
      "execution_count": null,
      "outputs": []
    },
    {
      "cell_type": "markdown",
      "source": [
        "# Maine\n"
      ],
      "metadata": {
        "id": "m2Ffan3T3Go1"
      }
    },
    {
      "cell_type": "code",
      "source": [
        "me_data = pd.read_csv(\"me_data.csv\")\n",
        "\n",
        "# Creating a base for the chart to share x-axis configuration\n",
        "base_me = alt.Chart(me_data).encode(\n",
        "    alt.X('Year:N', axis=alt.Axis(title='Year'))  # 'Year' as ordinal\n",
        ")\n",
        "\n",
        "# Creating the line chart for the 'Rate' on the left y-axis\n",
        "rate_chart_me = base_me.mark_line(point=True, color='red').encode(\n",
        "    alt.Y('Rate:Q', axis=alt.Axis(title='Rate', titleColor='red')),\n",
        "    tooltip = [\"Year\", \"Rate\"],\n",
        "    color = alt.value(\"red\")\n",
        ")\n",
        "\n",
        "# Creating the line chart for the 'Total Background Checks' on the right y-axis\n",
        "deaths_chart_me = base_me.mark_line(point=True, color='blue').encode(\n",
        "    alt.Y('Total Background Check Requests:Q', axis=alt.Axis(title='Total Background Checks', titleColor='blue')),\n",
        "    tooltip = [\"Year\", \"Total Background Check Requests\"],\n",
        "    color = alt.value(\"blue\")\n",
        ")\n",
        "\n",
        "# Combining both charts\n",
        "chart_me = alt.layer(rate_chart_me, deaths_chart_me).resolve_scale(\n",
        "    y='independent'\n",
        ").properties(\n",
        "    title='Firearm Mortality Rates and Deaths in Maine (2016-2021)',\n",
        "    width=500,\n",
        "    height=300\n",
        ")\n",
        "\n",
        "chart_me"
      ],
      "metadata": {
        "colab": {
          "base_uri": "https://localhost:8080/",
          "height": 398
        },
        "id": "SAP2vXzM6cYJ",
        "outputId": "10690636-b576-45fc-ca41-a5ebd71a74b1"
      },
      "execution_count": null,
      "outputs": [
        {
          "output_type": "execute_result",
          "data": {
            "text/html": [
              "\n",
              "<div id=\"altair-viz-f5ca761bfc464a46847e32dfde61e756\"></div>\n",
              "<script type=\"text/javascript\">\n",
              "  var VEGA_DEBUG = (typeof VEGA_DEBUG == \"undefined\") ? {} : VEGA_DEBUG;\n",
              "  (function(spec, embedOpt){\n",
              "    let outputDiv = document.currentScript.previousElementSibling;\n",
              "    if (outputDiv.id !== \"altair-viz-f5ca761bfc464a46847e32dfde61e756\") {\n",
              "      outputDiv = document.getElementById(\"altair-viz-f5ca761bfc464a46847e32dfde61e756\");\n",
              "    }\n",
              "    const paths = {\n",
              "      \"vega\": \"https://cdn.jsdelivr.net/npm//vega@5?noext\",\n",
              "      \"vega-lib\": \"https://cdn.jsdelivr.net/npm//vega-lib?noext\",\n",
              "      \"vega-lite\": \"https://cdn.jsdelivr.net/npm//vega-lite@4.17.0?noext\",\n",
              "      \"vega-embed\": \"https://cdn.jsdelivr.net/npm//vega-embed@6?noext\",\n",
              "    };\n",
              "\n",
              "    function maybeLoadScript(lib, version) {\n",
              "      var key = `${lib.replace(\"-\", \"\")}_version`;\n",
              "      return (VEGA_DEBUG[key] == version) ?\n",
              "        Promise.resolve(paths[lib]) :\n",
              "        new Promise(function(resolve, reject) {\n",
              "          var s = document.createElement('script');\n",
              "          document.getElementsByTagName(\"head\")[0].appendChild(s);\n",
              "          s.async = true;\n",
              "          s.onload = () => {\n",
              "            VEGA_DEBUG[key] = version;\n",
              "            return resolve(paths[lib]);\n",
              "          };\n",
              "          s.onerror = () => reject(`Error loading script: ${paths[lib]}`);\n",
              "          s.src = paths[lib];\n",
              "        });\n",
              "    }\n",
              "\n",
              "    function showError(err) {\n",
              "      outputDiv.innerHTML = `<div class=\"error\" style=\"color:red;\">${err}</div>`;\n",
              "      throw err;\n",
              "    }\n",
              "\n",
              "    function displayChart(vegaEmbed) {\n",
              "      vegaEmbed(outputDiv, spec, embedOpt)\n",
              "        .catch(err => showError(`Javascript Error: ${err.message}<br>This usually means there's a typo in your chart specification. See the javascript console for the full traceback.`));\n",
              "    }\n",
              "\n",
              "    if(typeof define === \"function\" && define.amd) {\n",
              "      requirejs.config({paths});\n",
              "      require([\"vega-embed\"], displayChart, err => showError(`Error loading script: ${err.message}`));\n",
              "    } else {\n",
              "      maybeLoadScript(\"vega\", \"5\")\n",
              "        .then(() => maybeLoadScript(\"vega-lite\", \"4.17.0\"))\n",
              "        .then(() => maybeLoadScript(\"vega-embed\", \"6\"))\n",
              "        .catch(showError)\n",
              "        .then(() => displayChart(vegaEmbed));\n",
              "    }\n",
              "  })({\"config\": {\"view\": {\"continuousWidth\": 400, \"continuousHeight\": 300}}, \"layer\": [{\"mark\": {\"type\": \"line\", \"color\": \"red\", \"point\": true}, \"encoding\": {\"color\": {\"value\": \"red\"}, \"tooltip\": [{\"field\": \"Year\", \"type\": \"quantitative\"}, {\"field\": \"Rate\", \"type\": \"quantitative\"}], \"x\": {\"axis\": {\"title\": \"Year\"}, \"field\": \"Year\", \"type\": \"nominal\"}, \"y\": {\"axis\": {\"title\": \"Rate\", \"titleColor\": \"red\"}, \"field\": \"Rate\", \"type\": \"quantitative\"}}}, {\"mark\": {\"type\": \"line\", \"color\": \"blue\", \"point\": true}, \"encoding\": {\"color\": {\"value\": \"blue\"}, \"tooltip\": [{\"field\": \"Year\", \"type\": \"quantitative\"}, {\"field\": \"Total Background Check Requests\", \"type\": \"quantitative\"}], \"x\": {\"axis\": {\"title\": \"Year\"}, \"field\": \"Year\", \"type\": \"nominal\"}, \"y\": {\"axis\": {\"title\": \"Total Background Checks\", \"titleColor\": \"blue\"}, \"field\": \"Total Background Check Requests\", \"type\": \"quantitative\"}}}], \"data\": {\"name\": \"data-3558a233822ee08a317d4f0c10ff3439\"}, \"height\": 300, \"resolve\": {\"scale\": {\"y\": \"independent\"}}, \"title\": \"Firearm Mortality Rates and Deaths in Maine (2016-2021)\", \"width\": 500, \"$schema\": \"https://vega.github.io/schema/vega-lite/v4.17.0.json\", \"datasets\": {\"data-3558a233822ee08a317d4f0c10ff3439\": [{\"Year\": 2021, \"State\": \"ME\", \"Rate\": 12.6, \"Deaths\": 178, \"Total Background Check Requests\": 129193, \"Notes \": null}, {\"Year\": 2020, \"State\": \"ME\", \"Rate\": 10.4, \"Deaths\": 153, \"Total Background Check Requests\": 137149, \"Notes \": null}, {\"Year\": 2019, \"State\": \"ME\", \"Rate\": 11.5, \"Deaths\": 163, \"Total Background Check Requests\": 90626, \"Notes \": null}, {\"Year\": 2018, \"State\": \"ME\", \"Rate\": 10.3, \"Deaths\": 159, \"Total Background Check Requests\": 93360, \"Notes \": null}, {\"Year\": 2017, \"State\": \"ME\", \"Rate\": 11.7, \"Deaths\": 172, \"Total Background Check Requests\": 96590, \"Notes \": null}, {\"Year\": 2016, \"State\": \"ME\", \"Rate\": 8.3, \"Deaths\": 123, \"Total Background Check Requests\": 111582, \"Notes \": null}]}}, {\"mode\": \"vega-lite\"});\n",
              "</script>"
            ],
            "text/plain": [
              "alt.LayerChart(...)"
            ]
          },
          "metadata": {},
          "execution_count": 24
        }
      ]
    },
    {
      "cell_type": "markdown",
      "source": [
        "# New Mexico"
      ],
      "metadata": {
        "id": "pv5VNWbrGQbg"
      }
    },
    {
      "cell_type": "code",
      "source": [
        "nm_data = pd.read_csv('nm_data.csv')\n",
        "\n",
        "# Creating a base for the chart to share x-axis configuration\n",
        "base_nm = alt.Chart(nm_data).encode(\n",
        "    alt.X('Year:N', axis=alt.Axis(title='Year'))\n",
        ")\n",
        "\n",
        "# Creating the line chart for the 'Rate' on the left y-axis\n",
        "rate_chart_nm = base_nm.mark_line(point=True, color='red').encode(\n",
        "    alt.Y('Rate:Q', axis=alt.Axis(title='Rate', titleColor='red')),\n",
        "    tooltip = [\"Year\", \"Rate\", \"Notes\"],\n",
        "    color = alt.value(\"red\")\n",
        ")\n",
        "\n",
        "# Creating the line chart for the 'Total Background Checks' on the right y-axis\n",
        "deaths_chart_nm = base_nm.mark_line(point=True, color='blue').encode(\n",
        "    alt.Y('Total Background Checks:Q', axis=alt.Axis(title='Total Background Checks', titleColor='blue')),\n",
        "    tooltip = [\"Year\", \"Total Background Checks\", \"Notes\"],\n",
        "    color = alt.value(\"blue\")\n",
        ")\n",
        "\n",
        "# Combining both charts\n",
        "chart_nm = alt.layer(rate_chart_nm, deaths_chart_nm).resolve_scale(\n",
        "    y='independent'\n",
        ").properties(\n",
        "    title='Firearm Mortality Rates and Deaths in New Mexico (2016-2021)',\n",
        "    width=500,\n",
        "    height=300\n",
        ")\n",
        "\n",
        "chart_nh"
      ],
      "metadata": {
        "colab": {
          "base_uri": "https://localhost:8080/",
          "height": 398
        },
        "id": "8HfN-Y4NI17u",
        "outputId": "8c5cad7b-718d-4d8b-dfac-2197f42cb124"
      },
      "execution_count": null,
      "outputs": [
        {
          "output_type": "execute_result",
          "data": {
            "text/html": [
              "\n",
              "<div id=\"altair-viz-c01adcfe708549368ee0876e7ab1d5fd\"></div>\n",
              "<script type=\"text/javascript\">\n",
              "  var VEGA_DEBUG = (typeof VEGA_DEBUG == \"undefined\") ? {} : VEGA_DEBUG;\n",
              "  (function(spec, embedOpt){\n",
              "    let outputDiv = document.currentScript.previousElementSibling;\n",
              "    if (outputDiv.id !== \"altair-viz-c01adcfe708549368ee0876e7ab1d5fd\") {\n",
              "      outputDiv = document.getElementById(\"altair-viz-c01adcfe708549368ee0876e7ab1d5fd\");\n",
              "    }\n",
              "    const paths = {\n",
              "      \"vega\": \"https://cdn.jsdelivr.net/npm//vega@5?noext\",\n",
              "      \"vega-lib\": \"https://cdn.jsdelivr.net/npm//vega-lib?noext\",\n",
              "      \"vega-lite\": \"https://cdn.jsdelivr.net/npm//vega-lite@4.17.0?noext\",\n",
              "      \"vega-embed\": \"https://cdn.jsdelivr.net/npm//vega-embed@6?noext\",\n",
              "    };\n",
              "\n",
              "    function maybeLoadScript(lib, version) {\n",
              "      var key = `${lib.replace(\"-\", \"\")}_version`;\n",
              "      return (VEGA_DEBUG[key] == version) ?\n",
              "        Promise.resolve(paths[lib]) :\n",
              "        new Promise(function(resolve, reject) {\n",
              "          var s = document.createElement('script');\n",
              "          document.getElementsByTagName(\"head\")[0].appendChild(s);\n",
              "          s.async = true;\n",
              "          s.onload = () => {\n",
              "            VEGA_DEBUG[key] = version;\n",
              "            return resolve(paths[lib]);\n",
              "          };\n",
              "          s.onerror = () => reject(`Error loading script: ${paths[lib]}`);\n",
              "          s.src = paths[lib];\n",
              "        });\n",
              "    }\n",
              "\n",
              "    function showError(err) {\n",
              "      outputDiv.innerHTML = `<div class=\"error\" style=\"color:red;\">${err}</div>`;\n",
              "      throw err;\n",
              "    }\n",
              "\n",
              "    function displayChart(vegaEmbed) {\n",
              "      vegaEmbed(outputDiv, spec, embedOpt)\n",
              "        .catch(err => showError(`Javascript Error: ${err.message}<br>This usually means there's a typo in your chart specification. See the javascript console for the full traceback.`));\n",
              "    }\n",
              "\n",
              "    if(typeof define === \"function\" && define.amd) {\n",
              "      requirejs.config({paths});\n",
              "      require([\"vega-embed\"], displayChart, err => showError(`Error loading script: ${err.message}`));\n",
              "    } else {\n",
              "      maybeLoadScript(\"vega\", \"5\")\n",
              "        .then(() => maybeLoadScript(\"vega-lite\", \"4.17.0\"))\n",
              "        .then(() => maybeLoadScript(\"vega-embed\", \"6\"))\n",
              "        .catch(showError)\n",
              "        .then(() => displayChart(vegaEmbed));\n",
              "    }\n",
              "  })({\"config\": {\"view\": {\"continuousWidth\": 400, \"continuousHeight\": 300}}, \"layer\": [{\"mark\": {\"type\": \"line\", \"color\": \"red\", \"point\": true}, \"encoding\": {\"color\": {\"value\": \"red\"}, \"tooltip\": [{\"field\": \"Year\", \"type\": \"quantitative\"}, {\"field\": \"Rate\", \"type\": \"quantitative\"}, {\"field\": \"Notes\", \"type\": \"nominal\"}], \"x\": {\"axis\": {\"title\": \"Year\"}, \"field\": \"Year\", \"type\": \"nominal\"}, \"y\": {\"axis\": {\"title\": \"Rate\", \"titleColor\": \"red\"}, \"field\": \"Rate\", \"type\": \"quantitative\"}}}, {\"mark\": {\"type\": \"line\", \"color\": \"blue\", \"point\": true}, \"encoding\": {\"color\": {\"value\": \"blue\"}, \"tooltip\": [{\"field\": \"Year\", \"type\": \"quantitative\"}, {\"field\": \"Total Background Checks\", \"type\": \"quantitative\"}, {\"field\": \"Notes\", \"type\": \"nominal\"}], \"x\": {\"axis\": {\"title\": \"Year\"}, \"field\": \"Year\", \"type\": \"nominal\"}, \"y\": {\"axis\": {\"title\": \"Total Background Checks\", \"titleColor\": \"blue\"}, \"field\": \"Total Background Checks\", \"type\": \"quantitative\"}}}], \"data\": {\"name\": \"data-e57d03b15ef1d91d157292f7ebb7c680\"}, \"height\": 300, \"resolve\": {\"scale\": {\"y\": \"independent\"}}, \"title\": \"Firearm Mortality Rates and Deaths in New Hampshire (2016-2021)\", \"width\": 500, \"$schema\": \"https://vega.github.io/schema/vega-lite/v4.17.0.json\", \"datasets\": {\"data-e57d03b15ef1d91d157292f7ebb7c680\": [{\"Year\": 2021, \"State\": \"NH\", \"Rate\": 8.3, \"Deaths\": 123, \"Total Background Checks\": 151853, \"Notes\": \"Enacts legislation allowing family members and law enforcement to petition for temporary firearm removal from individuals in mental health crisis.\"}, {\"Year\": 2020, \"State\": \"NH\", \"Rate\": 8.9, \"Deaths\": 128, \"Total Background Checks\": 174662, \"Notes\": \"Discusses the potential implementation of a waiting period for firearm purchases to allow time for background checks and cooling-off periods.\"}, {\"Year\": 2019, \"State\": \"NH\", \"Rate\": 10.7, \"Deaths\": 156, \"Total Background Checks\": 112173, \"Notes\": \"Tightens the background check process for concealed carry permit applicants with focusing on mental health history and criminal records.\"}, {\"Year\": 2018, \"State\": \"NH\", \"Rate\": 10.8, \"Deaths\": 155, \"Total Background Checks\": 120889, \"Notes\": \"Introduces guidelines promoting responsible firearm storage practices to prevent unauthorized access in households with minors particularly.\"}, {\"Year\": 2017, \"State\": \"NH\", \"Rate\": 10.4, \"Deaths\": 146, \"Total Background Checks\": 129090, \"Notes\": \"Introduces stricter penalties for individuals convicted of gun-related crimes to deter illegal firearm use.\"}, {\"Year\": 2016, \"State\": \"NH\", \"Rate\": 9.3, \"Deaths\": 132, \"Total Background Checks\": 165164, \"Notes\": \"Strengthens its preemption laws to prevent local jurisdictions from enacting firearm regulations that exceed state laws.\"}]}}, {\"mode\": \"vega-lite\"});\n",
              "</script>"
            ],
            "text/plain": [
              "alt.LayerChart(...)"
            ]
          },
          "metadata": {},
          "execution_count": 7
        }
      ]
    },
    {
      "cell_type": "code",
      "source": [
        "chart_nm.save(\"chart_nm.html\")"
      ],
      "metadata": {
        "id": "tw3ClboQNdNT"
      },
      "execution_count": null,
      "outputs": []
    },
    {
      "cell_type": "code",
      "source": [
        "nj_data"
      ],
      "metadata": {
        "colab": {
          "base_uri": "https://localhost:8080/",
          "height": 144
        },
        "id": "x-J-qV1-2n2M",
        "outputId": "051cb4da-84e3-4cd7-a0c4-dce1628ab26e"
      },
      "execution_count": null,
      "outputs": [
        {
          "output_type": "error",
          "ename": "NameError",
          "evalue": "name 'nj_data' is not defined",
          "traceback": [
            "\u001b[0;31m---------------------------------------------------------------------------\u001b[0m",
            "\u001b[0;31mNameError\u001b[0m                                 Traceback (most recent call last)",
            "\u001b[0;32m<ipython-input-18-d4b295231e37>\u001b[0m in \u001b[0;36m<cell line: 1>\u001b[0;34m()\u001b[0m\n\u001b[0;32m----> 1\u001b[0;31m \u001b[0mnj_data\u001b[0m\u001b[0;34m\u001b[0m\u001b[0;34m\u001b[0m\u001b[0m\n\u001b[0m",
            "\u001b[0;31mNameError\u001b[0m: name 'nj_data' is not defined"
          ]
        }
      ]
    },
    {
      "cell_type": "markdown",
      "source": [
        "# Mississippi"
      ],
      "metadata": {
        "id": "AGLmBGEvozF_"
      }
    },
    {
      "cell_type": "code",
      "source": [
        "ms_data = pd.read_csv(\"ms_data.csv\")\n",
        "# wv_data.head()\n",
        "\n",
        "base_ms = alt.Chart(ms_data).encode(\n",
        "    alt.X('Year:N', axis=alt.Axis(title='Year'))  # 'Year' as ordinal\n",
        ")\n",
        "\n",
        "# Creating the line chart for the 'Rate' on the left y-axis\n",
        "rate_chart_ms = base_ms.mark_line(point=True, color='red').encode(\n",
        "    alt.Y('Rate:Q', axis=alt.Axis(title='Rate', titleColor='red')),\n",
        "    tooltip = [\"Year\", \"Rate\", \"Notes\"],\n",
        "    color = alt.value(\"red\")\n",
        ")\n",
        "\n",
        "# Creating the line chart for the 'Total Background Checks' on the right y-axis\n",
        "deaths_chart_ms = base_ms.mark_line(point=True, color='blue').encode(\n",
        "    alt.Y('Total Background Checks:Q', axis=alt.Axis(title='Total Background Checks', titleColor='blue')),\n",
        "    tooltip = [\"Year\", \"Total Background Checks\", \"Notes\"],\n",
        "    color = alt.value(\"blue\")\n",
        ")\n",
        "\n",
        "# Combining both charts\n",
        "chart_ms = alt.layer(rate_chart_ms, deaths_chart_ms).resolve_scale(\n",
        "    y='independent'\n",
        ").properties(\n",
        "    title='Firearm Mortality Rates and Deaths in Mississippi (2016-2021)',\n",
        "    width=500,  # You can adjust the width to fit your display or preferences\n",
        "    height=300  # You can adjust the height as well\n",
        ")\n",
        "\n",
        "chart_ms"
      ],
      "metadata": {
        "colab": {
          "base_uri": "https://localhost:8080/",
          "height": 398
        },
        "id": "msYpeGxfoeZb",
        "outputId": "28f54fb2-4d89-45ad-f3df-eb9b8ce23d82"
      },
      "execution_count": null,
      "outputs": [
        {
          "output_type": "execute_result",
          "data": {
            "text/html": [
              "\n",
              "<div id=\"altair-viz-7b2360f8e3dd4071b866b750cb97b88d\"></div>\n",
              "<script type=\"text/javascript\">\n",
              "  var VEGA_DEBUG = (typeof VEGA_DEBUG == \"undefined\") ? {} : VEGA_DEBUG;\n",
              "  (function(spec, embedOpt){\n",
              "    let outputDiv = document.currentScript.previousElementSibling;\n",
              "    if (outputDiv.id !== \"altair-viz-7b2360f8e3dd4071b866b750cb97b88d\") {\n",
              "      outputDiv = document.getElementById(\"altair-viz-7b2360f8e3dd4071b866b750cb97b88d\");\n",
              "    }\n",
              "    const paths = {\n",
              "      \"vega\": \"https://cdn.jsdelivr.net/npm//vega@5?noext\",\n",
              "      \"vega-lib\": \"https://cdn.jsdelivr.net/npm//vega-lib?noext\",\n",
              "      \"vega-lite\": \"https://cdn.jsdelivr.net/npm//vega-lite@4.17.0?noext\",\n",
              "      \"vega-embed\": \"https://cdn.jsdelivr.net/npm//vega-embed@6?noext\",\n",
              "    };\n",
              "\n",
              "    function maybeLoadScript(lib, version) {\n",
              "      var key = `${lib.replace(\"-\", \"\")}_version`;\n",
              "      return (VEGA_DEBUG[key] == version) ?\n",
              "        Promise.resolve(paths[lib]) :\n",
              "        new Promise(function(resolve, reject) {\n",
              "          var s = document.createElement('script');\n",
              "          document.getElementsByTagName(\"head\")[0].appendChild(s);\n",
              "          s.async = true;\n",
              "          s.onload = () => {\n",
              "            VEGA_DEBUG[key] = version;\n",
              "            return resolve(paths[lib]);\n",
              "          };\n",
              "          s.onerror = () => reject(`Error loading script: ${paths[lib]}`);\n",
              "          s.src = paths[lib];\n",
              "        });\n",
              "    }\n",
              "\n",
              "    function showError(err) {\n",
              "      outputDiv.innerHTML = `<div class=\"error\" style=\"color:red;\">${err}</div>`;\n",
              "      throw err;\n",
              "    }\n",
              "\n",
              "    function displayChart(vegaEmbed) {\n",
              "      vegaEmbed(outputDiv, spec, embedOpt)\n",
              "        .catch(err => showError(`Javascript Error: ${err.message}<br>This usually means there's a typo in your chart specification. See the javascript console for the full traceback.`));\n",
              "    }\n",
              "\n",
              "    if(typeof define === \"function\" && define.amd) {\n",
              "      requirejs.config({paths});\n",
              "      require([\"vega-embed\"], displayChart, err => showError(`Error loading script: ${err.message}`));\n",
              "    } else {\n",
              "      maybeLoadScript(\"vega\", \"5\")\n",
              "        .then(() => maybeLoadScript(\"vega-lite\", \"4.17.0\"))\n",
              "        .then(() => maybeLoadScript(\"vega-embed\", \"6\"))\n",
              "        .catch(showError)\n",
              "        .then(() => displayChart(vegaEmbed));\n",
              "    }\n",
              "  })({\"config\": {\"view\": {\"continuousWidth\": 400, \"continuousHeight\": 300}}, \"layer\": [{\"mark\": {\"type\": \"line\", \"color\": \"red\", \"point\": true}, \"encoding\": {\"color\": {\"value\": \"red\"}, \"tooltip\": [{\"field\": \"Year\", \"type\": \"quantitative\"}, {\"field\": \"Rate\", \"type\": \"quantitative\"}, {\"field\": \"Notes\", \"type\": \"nominal\"}], \"x\": {\"axis\": {\"title\": \"Year\"}, \"field\": \"Year\", \"type\": \"nominal\"}, \"y\": {\"axis\": {\"title\": \"Rate\", \"titleColor\": \"red\"}, \"field\": \"Rate\", \"type\": \"quantitative\"}}}, {\"mark\": {\"type\": \"line\", \"color\": \"blue\", \"point\": true}, \"encoding\": {\"color\": {\"value\": \"blue\"}, \"tooltip\": [{\"field\": \"Year\", \"type\": \"quantitative\"}, {\"field\": \"Total Background Checks\", \"type\": \"quantitative\"}, {\"field\": \"Notes\", \"type\": \"nominal\"}], \"x\": {\"axis\": {\"title\": \"Year\"}, \"field\": \"Year\", \"type\": \"nominal\"}, \"y\": {\"axis\": {\"title\": \"Total Background Checks\", \"titleColor\": \"blue\"}, \"field\": \"Total Background Checks\", \"type\": \"quantitative\"}}}], \"data\": {\"name\": \"data-5d4c62a31abe5b9e4fa46f732b31d2f6\"}, \"height\": 300, \"resolve\": {\"scale\": {\"y\": \"independent\"}}, \"title\": \"Firearm Mortality Rates and Deaths in Mississippi (2016-2021)\", \"width\": 500, \"$schema\": \"https://vega.github.io/schema/vega-lite/v4.17.0.json\", \"datasets\": {\"data-5d4c62a31abe5b9e4fa46f732b31d2f6\": [{\"Year\": 2021, \"State\": \"MS\", \"Rate\": 33.9, \"Deaths\": 962, \"Total Background Checks\": 323319, \"Notes\": \"Proposes legislation to enhance firearm training requirements for concealed carry applicants, emphasizing responsible gun ownership.\"}, {\"Year\": 2020, \"State\": \"MS\", \"Rate\": 28.6, \"Deaths\": 818, \"Total Background Checks\": 366829, \"Notes\": \"Passes regulations requiring reporting lost or stolen firearms to law enforcement.\"}, {\"Year\": 2019, \"State\": \"MS\", \"Rate\": 24.2, \"Deaths\": 710, \"Total Background Checks\": 238388, \"Notes\": \"Enhances background checks for concealed carry applicants, focusing on mental health history and criminal records.\"}, {\"Year\": 2018, \"State\": \"MS\", \"Rate\": 22.9, \"Deaths\": 681, \"Total Background Checks\": 247278, \"Notes\": \"Prevents local jurisdictions from enacting firearm regulations that exceed state laws.\"}, {\"Year\": 2017, \"State\": \"MS\", \"Rate\": 21.5, \"Deaths\": 632, \"Total Background Checks\": 251852, \"Notes\": \"Imposes stricter penalties for individuals convicted of gun-related crimes, aiming to deter illegal firearm use.\"}, {\"Year\": 2016, \"State\": \"MS\", \"Rate\": 19.9, \"Deaths\": 587, \"Total Background Checks\": 276161, \"Notes\": \"Passes \\\"stand your ground law\\\", which allows individuals to use deadly force in self-defense without a duty to retreat.\"}]}}, {\"mode\": \"vega-lite\"});\n",
              "</script>"
            ],
            "text/plain": [
              "alt.LayerChart(...)"
            ]
          },
          "metadata": {},
          "execution_count": 13
        }
      ]
    },
    {
      "cell_type": "code",
      "source": [
        "chart_ms.save(\"chart_ms.html\")"
      ],
      "metadata": {
        "id": "jJa4Z1QgpArg"
      },
      "execution_count": null,
      "outputs": []
    },
    {
      "cell_type": "code",
      "source": [],
      "metadata": {
        "id": "7F8GzJ2UUbTF"
      },
      "execution_count": null,
      "outputs": []
    },
    {
      "cell_type": "code",
      "source": [
        "# New Mexico\n",
        "death_data_nm = pd.read_csv('death_data_nm.csv')\n",
        "death_data_nm"
      ],
      "metadata": {
        "id": "MTzhpKJlE9qU"
      },
      "execution_count": null,
      "outputs": []
    },
    {
      "cell_type": "code",
      "source": [
        "# Ensure your data is correctly ordered and types are set; for example, Year should be treated as ordinal.\n",
        "data_nm = pd.DataFrame({\n",
        "    'Year': [2021, 2020, 2019, 2018, 2017, 2016],\n",
        "    'Rate': [27.8, 22.7, 22.3, 20.7, 18.5, 18.1],\n",
        "    'Deaths': [578, 479, 471, 438, 394, 383]\n",
        "}).sort_values('Year')  # Sorting the data by Year if needed\n",
        "\n",
        "# Creating a base for the chart to share x-axis configuration\n",
        "base = alt.Chart(data_nm).encode(\n",
        "    alt.X('Year:O', axis=alt.Axis(title='Year'))  # 'Year' as ordinal\n",
        ")\n",
        "\n",
        "# Creating the line chart for the 'Rate' on the left y-axis\n",
        "rate_chart = base.mark_line(color='red').encode(\n",
        "    alt.Y('Rate:Q', axis=alt.Axis(title='Rate', titleColor='red'))  # 'Rate' as quantitative\n",
        ")\n",
        "\n",
        "# Creating the line chart for the 'Deaths' on the right y-axis\n",
        "deaths_chart = base.mark_line(color='blue').encode(\n",
        "    alt.Y('Deaths:Q', axis=alt.Axis(title='Deaths', titleColor='blue'))  # 'Deaths' as quantitative\n",
        ")\n",
        "\n",
        "# Combining both charts\n",
        "# If scales are not independent, the lines may not show correctly.\n",
        "chart = alt.layer(rate_chart, deaths_chart).resolve_scale(\n",
        "    y='independent'\n",
        ").properties(\n",
        "    title='Firearm Mortality Rates and Deaths in New Mexico (2016-2021)',\n",
        "    width=500,  # You can adjust the width to fit your display or preferences\n",
        "    height=300  # You can adjust the height as well\n",
        ")\n",
        "\n",
        "# To display the chart, simply call the chart object in a Jupyter notebook cell\n",
        "chart"
      ],
      "metadata": {
        "id": "BINaYMcCFFEF"
      },
      "execution_count": null,
      "outputs": []
    },
    {
      "cell_type": "code",
      "source": [
        "# Chart for Rate\n",
        "rate_chart_nm = alt.Chart(death_data_nm).mark_line(color='red').encode(\n",
        "    x=alt.X('YEAR:O', axis=alt.Axis(title='Year')),\n",
        "    y=alt.Y('RATES:Q', axis=alt.Axis(title='Rate', titleColor='red'))\n",
        ")\n",
        "\n",
        "# Chart for Deaths\n",
        "deaths_chart_nm = alt.Chart(death_data_nm).mark_line(color='blue').encode(\n",
        "    x='YEAR:O',\n",
        "    y=alt.Y('DEATHS:Q', axis=alt.Axis(title='Deaths', titleColor='blue'))\n",
        ")\n",
        "\n",
        "# Combine the charts\n",
        "combined_chart_nm = alt.layer(rate_chart_nm, deaths_chart_nm).resolve_scale(\n",
        "    y='independent'\n",
        ").properties(\n",
        "    title='Firearm Mortality Rates and Deaths in New Mexico (2016-2021)'\n",
        ")\n",
        "\n",
        "# Display the chart\n",
        "combined_chart_nm"
      ],
      "metadata": {
        "id": "lmlQTBWJFOfI"
      },
      "execution_count": null,
      "outputs": []
    }
  ]
}